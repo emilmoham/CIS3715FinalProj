{
 "cells": [
  {
   "cell_type": "markdown",
   "metadata": {},
   "source": [
    "# A Statistical Look at Basketball 2017- 2018 Season"
   ]
  },
  {
   "cell_type": "code",
   "execution_count": 8,
   "metadata": {},
   "outputs": [],
   "source": [
    "import urllib2\n",
    "import pandas as pd\n",
    "import numpy as np\n",
    "from bs4 import BeautifulSoup\n",
    "import matplotlib.pyplot as plt\n",
    "\n",
    "# Directories\n",
    "dir_data = \"Data\"\n",
    "\n",
    "# File Paths\n",
    "file_game_stats = dir_data +  \"/1718_season_stats.csv\"\n",
    "file_player_stats = dir_data + \"\"\n"
   ]
  },
  {
   "cell_type": "markdown",
   "metadata": {},
   "source": [
    "## Webscraping"
   ]
  },
  {
   "cell_type": "code",
   "execution_count": 5,
   "metadata": {},
   "outputs": [],
   "source": [
    "url_head = \"https://www.basketball-reference.com/leagues/NBA_2018_games-\"\n",
    "url_tail = \".html\"\n",
    "monthsOfSeason = [\"october\", \"november\", \"december\", \"january\", \"february\", \"march\", \"april\"]\n",
    "\n",
    "URLs = []\n",
    "for month in monthsOfSeason:\n",
    "        URLs.append( url_head + month + url_tail)"
   ]
  },
  {
   "cell_type": "code",
   "execution_count": 6,
   "metadata": {},
   "outputs": [
    {
     "name": "stdout",
     "output_type": "stream",
     "text": [
      "https://www.basketball-reference.com/leagues/NBA_2018_games-october.html\n",
      "https://www.basketball-reference.com/leagues/NBA_2018_games-november.html\n",
      "https://www.basketball-reference.com/leagues/NBA_2018_games-december.html\n",
      "https://www.basketball-reference.com/leagues/NBA_2018_games-january.html\n",
      "https://www.basketball-reference.com/leagues/NBA_2018_games-february.html\n",
      "https://www.basketball-reference.com/leagues/NBA_2018_games-march.html\n",
      "https://www.basketball-reference.com/leagues/NBA_2018_games-april.html\n"
     ]
    }
   ],
   "source": [
    "for URL in URLs:\n",
    "    print URL"
   ]
  },
  {
   "cell_type": "code",
   "execution_count": 11,
   "metadata": {},
   "outputs": [],
   "source": [
    "FP_season_stats = open(file_game_stats, \"w\")\n",
    "\n",
    "for url in URLs:\n",
    "    source = urllib2.urlopen(url).read();\n",
    "    soup = BeautifulSoup(source, \"lxml\")\n",
    "    rows = soup.find(\"tbody\").findAll(\"tr\")\n",
    "    \n",
    "    for row in rows:\n",
    "        col = row.findAll(\"td\")\n",
    "        \n",
    "        if len(col) < 4:\n",
    "            break;\n",
    "        team_1_name = col[1].text\n",
    "        team_1_score = col[2].text\n",
    "        team_2_name = col[3].text\n",
    "        team_2_score = col[4].text\n",
    "        \n",
    "        FP_season_stats.write(team_1_name + \",\"\n",
    "                             + team_1_score + \",\"\n",
    "                             + team_2_name + \",\"\n",
    "                             + team_2_score + \"\\n\")\n",
    "\n",
    "FP_season_stats.close()"
   ]
  },
  {
   "cell_type": "code",
   "execution_count": null,
   "metadata": {},
   "outputs": [],
   "source": []
  }
 ],
 "metadata": {
  "kernelspec": {
   "display_name": "Python 2",
   "language": "python",
   "name": "python2"
  },
  "language_info": {
   "codemirror_mode": {
    "name": "ipython",
    "version": 2
   },
   "file_extension": ".py",
   "mimetype": "text/x-python",
   "name": "python",
   "nbconvert_exporter": "python",
   "pygments_lexer": "ipython2",
   "version": "2.7.14"
  }
 },
 "nbformat": 4,
 "nbformat_minor": 2
}
