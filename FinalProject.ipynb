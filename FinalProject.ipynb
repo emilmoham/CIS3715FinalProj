{
 "cells": [
  {
   "cell_type": "markdown",
   "metadata": {},
   "source": [
    "# A Statistical Look at Basketball 2017- 2018 Season\n",
    "\n",
    "## 1. Introduction\n",
    "### Problem\n",
    "Datasets containing information about the NBA, both statistics for players and overall teams, are plentiful. Playoffs for the the 2017-2018 season are currently underway and it would be interesting to see if a predictor can be made which takes information from the regular season, and applies that data to the post season to make some playoffs predictions. \n",
    "\n",
    "### Approach\n",
    "A\n",
    "\n",
    "### Deliverables\n",
    "The playoffs games will continue and end well after the project is due, so we will not be able to check the playoff predictions as a means of gauging success. While the model will be used to make predictions for the playoff games, it will not be a measure of success. Instead, what I want to do is create a predictor that is able to achieve at least 90% accuracy when trained and tested on the regular season games. Furthermore, wherever possible, the models will be inspected to see how different statistics are used to come to a decsion. "
   ]
  },
  {
   "cell_type": "code",
   "execution_count": 46,
   "metadata": {
    "collapsed": true
   },
   "outputs": [],
   "source": [
    "import urllib2\n",
    "import pandas as pd\n",
    "import numpy as np\n",
    "from bs4 import BeautifulSoup\n",
    "import matplotlib.pyplot as plt\n",
    "from datetime import datetime\n",
    "\n",
    "from sklearn.model_selection import train_test_split\n",
    "from sklearn import tree\n",
    "from sklearn.ensemble import RandomForestClassifier\n",
    "from sklearn.linear_model import LogisticRegression\n",
    "from sklearn.metrics import accuracy_score\n",
    "\n",
    "# Directories\n",
    "dir_data = \"Data\"\n",
    "dir_figures = \"Figures\"\n",
    "# File Paths\n",
    "file_game_stats = dir_data +  \"/1718_season_stats.csv\"\n",
    "file_player_stats = dir_data + \"/PaulRossotti_Kaggle/2017-18_playerBoxScore.csv\"\n",
    "file_team_stats = dir_data + \"/PaulRossotti_Kaggle/2017-18_teamBoxScore.csv\"\n",
    "file_team_map = dir_data + \"/teamMapping.csv\"\n"
   ]
  },
  {
   "cell_type": "markdown",
   "metadata": {},
   "source": [
    "## 2. Webscraping\n",
    "We're gonna need some information about the season schedule. We're interested in what teams played eachother and what the outcomes of the games were. [This website](https://www.basketball-reference.com/leagues/NBA_2018_games.html) contains the shedule, teams and scores for us to create a data set with. We just need to scrape the data into a CSV file."
   ]
  },
  {
   "cell_type": "code",
   "execution_count": 47,
   "metadata": {
    "collapsed": true
   },
   "outputs": [],
   "source": [
    "url_head = \"https://www.basketball-reference.com/leagues/NBA_2018_games-\"\n",
    "url_tail = \".html\"\n",
    "monthsOfSeason = [\"october\", \"november\", \"december\", \"january\", \"february\", \"march\", \"april\"]\n",
    "\n",
    "URLs = []\n",
    "for month in monthsOfSeason:\n",
    "        URLs.append( url_head + month + url_tail)"
   ]
  },
  {
   "cell_type": "code",
   "execution_count": 48,
   "metadata": {
    "collapsed": true
   },
   "outputs": [],
   "source": [
    "FP_season_stats = open(file_game_stats, \"w\")\n",
    "\n",
    "# set headers\n",
    "FP_season_stats.write(\"gmDate,T1name,T1score,T2name,T2score,outcome\\n\")\n",
    "\n",
    "for url in URLs:\n",
    "    source = urllib2.urlopen(url).read();\n",
    "    soup = BeautifulSoup(source, \"lxml\")\n",
    "    rows = soup.find(\"tbody\").findAll(\"tr\")\n",
    "    \n",
    "    \n",
    "    for row in rows:\n",
    "        col_date = row.find(\"th\")\n",
    "        col = row.findAll(\"td\")\n",
    "        \n",
    "        # Exit Condition, the web pages are organized by month and\n",
    "        # playoff information is held in the same table separated\n",
    "        # by a special header row which spans all the columns. If we \n",
    "        # only find a single column, we've hit the end of the regular\n",
    "        # season data.\n",
    "        if len(col) < 4:\n",
    "            break;\n",
    "        \n",
    "        # Defining our information variables\n",
    "        dateObj = datetime.strptime(col_date.text, \"%a, %b %d, %Y\")\n",
    "        game_date = dateObj.date()\n",
    "        team_1_name = col[1].text\n",
    "        team_1_score = int(col[2].text)\n",
    "        team_2_name = col[3].text\n",
    "        team_2_score = int(col[4].text)\n",
    "        outcome = (0 if (team_1_score > team_2_score) else  1)\n",
    "        \n",
    "        \n",
    "        # Writing those variables to the CSV file\n",
    "        FP_season_stats.write(str(game_date) + \",\" \n",
    "                              + team_1_name + \",\" \n",
    "                              + str(team_1_score) + \",\" \n",
    "                              + team_2_name + \",\" \n",
    "                              + str(team_2_score) + \",\"\n",
    "                              + str(outcome) + \"\\n\")\n",
    "\n",
    "# Confirm our changes\n",
    "FP_season_stats.close()"
   ]
  },
  {
   "cell_type": "markdown",
   "metadata": {},
   "source": [
    "## 3. Data Cleaning"
   ]
  },
  {
   "cell_type": "code",
   "execution_count": 49,
   "metadata": {
    "collapsed": true
   },
   "outputs": [],
   "source": [
    "df_game_stats = pd.read_csv(file_game_stats)\n",
    "df_player_stats = pd.read_csv(file_player_stats)\n",
    "df_mapping = pd.read_csv(file_team_map)\n",
    "\n",
    "# Create maps for cleaning\n",
    "code2number = df_mapping.code.to_dict()\n",
    "name2number = df_mapping.name.to_dict()\n",
    "\n",
    "def invertDictionary(dictionary):\n",
    "    return {v:k for k,v in dictionary.items()}\n",
    "\n",
    "code2number = invertDictionary(code2number)\n",
    "name2number = invertDictionary(name2number)\n",
    "pos2number = {}\n",
    "loc2number = {\"Away\":0, \"Home\":1}\n",
    "result2number = {\"Loss\":0, \"Win\":1}\n",
    "\n",
    "positions = df_player_stats[\"playPos\"].unique()\n",
    "for i in range(len(positions)):\n",
    "    pos2number[positions[i]] = i\n",
    "\n",
    "\n",
    "# Clean Game Statistics\n",
    "df_game_stats[\"T1name\"] = df_game_stats[\"T1name\"].replace(name2number)\n",
    "df_game_stats[\"T2name\"] = df_game_stats[\"T2name\"].replace(name2number)\n",
    "\n",
    "\n",
    "# Clean Player Data\n",
    "df_player_stats = df_player_stats.drop([\"gmTime\", \"seasTyp\",\n",
    "                                        \"playLNm\", \"playFNm\",\n",
    "                                        \"teamConf\", \"teamDiv\",\n",
    "                                        \"teamRslt\",\n",
    "                                        \"offLNm1\", #\"teamDayOff\",\n",
    "                                        \"offFNm1\", \"offLNm2\",\n",
    "                                        \"offFNm2\", \"offLNm3\",\n",
    "                                        \"offFNm3\", \"playStat\",\n",
    "                                        \"playBDate\", \"playTRB\",\n",
    "                                        \"opptAbbr\", \"opptConf\", \n",
    "                                        \"opptDiv\", \"opptLoc\",\n",
    "                                        \"opptRslt\", \"opptDayOff\"]\n",
    "                                       , axis=1)\n",
    "\n",
    "\n",
    "df_player_stats[\"teamAbbr\"] = df_player_stats[\"teamAbbr\"].replace(code2number)\n",
    "df_player_stats[\"teamLoc\"] = df_player_stats[\"teamLoc\"].replace(loc2number)\n",
    "df_player_stats[\"playPos\"] = df_player_stats[\"playPos\"].replace(pos2number)"
   ]
  },
  {
   "cell_type": "markdown",
   "metadata": {},
   "source": [
    "## 4. Getting Season Averages"
   ]
  },
  {
   "cell_type": "code",
   "execution_count": 50,
   "metadata": {
    "collapsed": true
   },
   "outputs": [],
   "source": [
    "unique_players = df_player_stats.playDispNm.unique()\n",
    "\n",
    "df_player_season_avg = df_player_stats.drop([\"gmDate\", \"teamAbbr\", \"teamLoc\", \"teamDayOff\"],axis=1)\n",
    "df_player_season_avg = df_player_season_avg.groupby(\"playDispNm\").mean()\n",
    "df_player_season_avg[\"playPos\"] = df_player_season_avg[\"playPos\"].astype(np.int32)"
   ]
  },
  {
   "cell_type": "markdown",
   "metadata": {},
   "source": [
    "## 5. Basic EDA"
   ]
  },
  {
   "cell_type": "code",
   "execution_count": 51,
   "metadata": {
    "collapsed": true
   },
   "outputs": [],
   "source": [
    "df_player_season_avg.to_csv(dir_data+\"/player_season_totals.csv\")\n",
    "df_team_season_avg = pd.read_csv(file_team_stats).groupby(\"teamAbbr\").mean()"
   ]
  },
  {
   "cell_type": "code",
   "execution_count": 94,
   "metadata": {},
   "outputs": [
    {
     "name": "stdout",
     "output_type": "stream",
     "text": [
      "C green\n",
      "G black\n",
      "F red\n",
      "PF orange\n",
      "PG blue\n",
      "SG purple\n",
      "SF magenta\n"
     ]
    },
    {
     "data": {
      "text/plain": [
       "<matplotlib.figure.Figure at 0x7fa10fdc8610>"
      ]
     },
     "metadata": {},
     "output_type": "display_data"
    },
    {
     "data": {
      "image/png": "[encoded data removed]",
      "text/plain": [
       "<matplotlib.figure.Figure at 0x7fa10f9a8d90>"
      ]
     },
     "metadata": {},
     "output_type": "display_data"
    },
    {
     "data": {
      "text/plain": [
       "<matplotlib.figure.Figure at 0x7fa127302c50>"
      ]
     },
     "metadata": {},
     "output_type": "display_data"
    },
    {
     "data": {
      "image/png": "[encoded data removed]",
      "text/plain": [
       "<matplotlib.figure.Figure at 0x7fa127302a90>"
      ]
     },
     "metadata": {},
     "output_type": "display_data"
    }
   ],
   "source": [
    "colors = {0:\"red\", 1:\"blue\",2:\"magenta\", 3:\"green\", 4:\"orange\", 5:\"purple\", 6:\"black\"}\n",
    "for k in pos2number:\n",
    "    print k + \" \" + colors[pos2number[k]]\n",
    "\n",
    "plt.figure()\n",
    "df_player_season_avg.plot(kind='scatter', x='playHeight', y='playWeight', c=df_player_season_avg[\"playPos\"].apply(lambda x: colors[x]))\n",
    "plt.title(\"Height and Weight By Position\")\n",
    "plt.savefig(dir_figures+\"/HWbyPos.png\")\n",
    "plt.show()\n",
    "\n",
    "plt.figure()\n",
    "fig, ax = plt.subplots()\n",
    "x = \"opptTREB%\"\n",
    "y = \"teamPTS\"\n",
    "ax.scatter(df_team_season_avg[x], df_team_season_avg[y])\n",
    "\n",
    "for i, txt in enumerate(df_team_season_avg.index):\n",
    "    ax.annotate(txt, (df_team_season_avg[x][i], df_team_season_avg[y][i]))\n",
    "plt.title(\"Team AVG Rebound % vs AVG Points Scored\")\n",
    "plt.savefig(dir_figures+\"/teamStuff.png\")\n",
    "plt.show()"
   ]
  },
  {
   "cell_type": "code",
   "execution_count": 115,
   "metadata": {},
   "outputs": [
    {
     "name": "stdout",
     "output_type": "stream",
     "text": [
      "playMin\n",
      "\tH- 0.723\n",
      "\tA- 0.726\n",
      "playPos\n",
      "\tH- -0.04\n",
      "\tA- -0.03\n",
      "playHeight\n",
      "\tH- -0.037\n",
      "\tA- -0.034\n",
      "playWeight\n",
      "\tH- -0.021\n",
      "\tA- -0.017\n",
      "playPTS\n",
      "\tH- 1.0\n",
      "\tA- 1.0\n",
      "playAST\n",
      "\tH- 0.42\n",
      "\tA- 0.427\n",
      "playTO\n",
      "\tH- 0.411\n",
      "\tA- 0.414\n",
      "playSTL\n",
      "\tH- 0.282\n",
      "\tA- 0.297\n",
      "playBLK\n",
      "\tH- 0.175\n",
      "\tA- 0.199\n",
      "playPF\n",
      "\tH- 0.261\n",
      "\tA- 0.272\n",
      "playFGA\n",
      "\tH- 0.873\n",
      "\tA- 0.878\n",
      "playFGM\n",
      "\tH- 0.962\n",
      "\tA- 0.962\n",
      "playFG%\n",
      "\tH- 0.442\n",
      "\tA- 0.439\n",
      "play2PA\n",
      "\tH- 0.757\n",
      "\tA- 0.771\n",
      "play2PM\n",
      "\tH- 0.805\n",
      "\tA- 0.808\n",
      "play2P%\n",
      "\tH- 0.384\n",
      "\tA- 0.382\n",
      "play3PA\n",
      "\tH- 0.582\n",
      "\tA- 0.564\n",
      "0.01803\tplay3PA\n",
      "play3PM\n",
      "\tH- 0.627\n",
      "\tA- 0.614\n",
      "0.01216\tplay3PM\n",
      "play3P%\n",
      "\tH- 0.396\n",
      "\tA- 0.402\n",
      "playFTA\n",
      "\tH- 0.627\n",
      "\tA- 0.637\n",
      "playFTM\n",
      "\tH- 0.636\n",
      "\tA- 0.65\n",
      "playFT%\n",
      "\tH- 0.488\n",
      "\tA- 0.501\n",
      "playORB\n",
      "\tH- 0.225\n",
      "\tA- 0.23\n",
      "playDRB\n",
      "\tH- 0.437\n",
      "\tA- 0.432\n",
      "{'playPos': -0.04022, 'play3PM': 0.62665, 'playWeight': -0.02093, 'play2PA': 0.75683, 'play2PM': 0.80496, 'playFT%': 0.48827, 'play3PA': 0.58158, 'playPTS': 1.0, 'playAST': 0.41989, 'playMin': 0.7226, 'playBLK': 0.17538, 'playPF': 0.26108, 'playORB': 0.22523, 'playSTL': 0.28236, 'playFTM': 0.63584, 'playTO': 0.41066, 'playHeight': -0.0366, 'play3P%': 0.39611, 'play2P%': 0.38446, 'playFG%': 0.44199, 'playDRB': 0.43718, 'playFGA': 0.87332, 'playFGM': 0.96246, 'playFTA': 0.62744}\n",
      "{'playPos': -0.0296, 'play3PM': 0.6145, 'playWeight': -0.01748, 'play2PA': 0.77073, 'play2PM': 0.80756, 'playFT%': 0.50076, 'play3PA': 0.56355, 'playPTS': 1.0, 'playAST': 0.42682, 'playMin': 0.72622, 'playBLK': 0.19859, 'playPF': 0.27162, 'playORB': 0.22986, 'playSTL': 0.29661, 'playFTM': 0.64968, 'playTO': 0.41418, 'playHeight': -0.03421, 'play3P%': 0.40173, 'play2P%': 0.38199, 'playFG%': 0.43935, 'playDRB': 0.43229, 'playFGA': 0.87764, 'playFGM': 0.96187, 'playFTA': 0.63714}\n"
     ]
    }
   ],
   "source": [
    "## Looking at correlations with points scored\n",
    "\n",
    "weight_test_data = df_player_stats.drop([\"gmDate\", \"teamAbbr\"], axis=1)\n",
    "weights_home = {}\n",
    "weights_away = {}\n",
    "threshold = 0.5\n",
    "home_stats = weight_test_data[weight_test_data[\"teamLoc\"] == 0]\n",
    "away_stats = weight_test_data[weight_test_data[\"teamLoc\"] == 1]\n",
    "for i in range(3, len(weight_test_data.keys())):\n",
    "    key = weight_test_data.keys()[i]\n",
    "    plt.figure()\n",
    "    home_correlation = np.corrcoef(home_stats[key], home_stats[\"playPTS\"])\n",
    "    away_correlation = np.corrcoef(away_stats[key], away_stats[\"playPTS\"])\n",
    "    difference = round(home_correlation[0][1] - away_correlation[0][1], 5)\n",
    "    weights_home[key] = (round(home_correlation[0][1],5))\n",
    "    weights_away[key] = (round(away_correlation[0][1],5))\n",
    "    \n",
    "    #if abs(home_correlation[0][1]) > threshold or abs(away_correlation[0][1]) > threshold:\n",
    "    print key\n",
    "    print \"\\tH- \" + str(round(home_correlation[0][1], 3))\n",
    "    print \"\\tA- \" + str(round(away_correlation[0][1], 3))\n",
    "        \n",
    "    if difference > 0.01:\n",
    "        print str(difference) + \"\\t\" + key\n",
    "        \n",
    "print weights_home\n",
    "print weights_away"
   ]
  },
  {
   "cell_type": "markdown",
   "metadata": {
    "collapsed": true
   },
   "source": [
    "## 6. Supervised Learning\n",
    "## Trainable Dataset Attempt 1\n",
    "\n",
    "### Idea:    \n",
    "Dataset of games:    \n",
    "{[G1],[G2],...[G_k]}\n",
    "\n",
    "Game layout:   \n",
    "[G1] = {Team_1_stat_1, Team_1_stat_2, ... , Team_2_stat_n, outcome }\n",
    "\n",
    "In the above layout, outcome will be 0 when team 1 was the winner, 1 when team 2 is the winner.\n",
    "\n",
    "Team stats will be made of averages taken from each player in their specific "
   ]
  },
  {
   "cell_type": "code",
   "execution_count": 54,
   "metadata": {
    "collapsed": true
   },
   "outputs": [],
   "source": [
    "### We need to split the data into train and test sets.\n",
    "### The datasets will always be organized by Date and Time.\n",
    "### Let's create a sample based on indicies. There are \n",
    "### easier ways to do this but this seems intuitive.\n",
    "\n",
    "# Create List of indicies for each game\n",
    "indicies = range(len(df_game_stats))\n",
    "\n",
    "# Split Indicies into train and test sets\n",
    "i_train, i_test, i_train, i_test = train_test_split(indicies, indicies, test_size=0.33)\n",
    "\n",
    "# Usage:\n",
    "# z = [games[i] for i in x_train[:10]]"
   ]
  },
  {
   "cell_type": "code",
   "execution_count": 55,
   "metadata": {
    "collapsed": true
   },
   "outputs": [],
   "source": [
    "df_player_stats_numeric = df_player_stats.drop([\"playDispNm\"], axis=1);\n",
    "\n",
    "games = []\n",
    "labels = []\n",
    "for index, match in df_game_stats.iterrows():\n",
    "    date = match.gmDate\n",
    "    home = match.T1name\n",
    "    away = match.T2name\n",
    "    \n",
    "    game = []\n",
    "    team1 = []\n",
    "    team2 = []\n",
    "    \n",
    "    filter_by_date = df_player_stats_numeric[df_player_stats[\"gmDate\"]==date]\n",
    "    \n",
    "    #Team 1\n",
    "    filter_by_team = filter_by_date[filter_by_date[\"teamAbbr\"]==home]\n",
    "    filter_by_team = filter_by_team.drop([\"gmDate\"], axis=1)\n",
    "    game.extend(filter_by_team.mean().tolist())\n",
    "    #for index, player in filter_by_team.iterrows():\n",
    "    #    team1.append(player.tolist())\n",
    "        \n",
    "    #Team 2\n",
    "    filter_by_team = filter_by_date[filter_by_date[\"teamAbbr\"]==away]\n",
    "    filter_by_team = filter_by_team.drop([\"gmDate\"], axis=1)\n",
    "    game.extend(filter_by_team.mean().tolist())\n",
    "    #for index, player in filter_by_team.iterrows():\n",
    "    #    team2.append(player.tolist())\n",
    "        \n",
    "    #game.append(team1)\n",
    "    #game.append(team2)\n",
    "    games.append(game)\n",
    "    labels.append(match.outcome)"
   ]
  },
  {
   "cell_type": "code",
   "execution_count": 56,
   "metadata": {},
   "outputs": [
    {
     "name": "stdout",
     "output_type": "stream",
     "text": [
      "0.660098522167\n"
     ]
    }
   ],
   "source": [
    "### Trial 1 - Default Decision Tree\n",
    "x_train = [games[i] for i in i_train]\n",
    "y_train = [labels[i] for i in i_train]\n",
    "x_test = [games[i] for i in i_test]\n",
    "y_test = [labels[i] for i in i_test]\n",
    "\n",
    "clf = tree.DecisionTreeClassifier()\n",
    "clf = clf.fit(x_train, y_train)\n",
    "\n",
    "predictions = clf.predict(x_test)\n",
    "print accuracy_score(y_test, predictions)"
   ]
  },
  {
   "cell_type": "code",
   "execution_count": 57,
   "metadata": {},
   "outputs": [
    {
     "data": {
      "text/plain": [
       "'Stuff.pdf'"
      ]
     },
     "execution_count": 57,
     "metadata": {},
     "output_type": "execute_result"
    }
   ],
   "source": [
    "### Exporting Tree to understand what statistics are being looked at\n",
    "import graphviz\n",
    "dot_data = tree.export_graphviz(clf, out_file=None)\n",
    "graph = graphviz.Source(dot_data)\n",
    "graph.render(\"Stuff\")"
   ]
  },
  {
   "cell_type": "code",
   "execution_count": 58,
   "metadata": {},
   "outputs": [
    {
     "name": "stdout",
     "output_type": "stream",
     "text": [
      "0.692118226601\n"
     ]
    }
   ],
   "source": [
    "# Trial 2 - Optimized Decsion Tree\n",
    "clf = tree.DecisionTreeClassifier(criterion=\"gini\",max_depth=12,max_leaf_nodes=20)\n",
    "clf = clf.fit(x_train, y_train)\n",
    "predictions = clf.predict(x_test)\n",
    "print str(accuracy_score(y_test, predictions))"
   ]
  },
  {
   "cell_type": "code",
   "execution_count": 59,
   "metadata": {},
   "outputs": [
    {
     "name": "stdout",
     "output_type": "stream",
     "text": [
      "0.709359605911\n"
     ]
    }
   ],
   "source": [
    "#Default Random Forest\n",
    "clf = RandomForestClassifier()\n",
    "clf = clf.fit(x_train, y_train)\n",
    "predictions = clf.predict(x_test)\n",
    "print accuracy_score(y_test, predictions)"
   ]
  },
  {
   "cell_type": "code",
   "execution_count": 60,
   "metadata": {},
   "outputs": [
    {
     "name": "stdout",
     "output_type": "stream",
     "text": [
      "0.987684729064\n"
     ]
    }
   ],
   "source": [
    "# Default Logistic Regression\n",
    "model = LogisticRegression()\n",
    "model.fit(x_train, y_train)\n",
    "predictions = model.predict(x_test)\n",
    "\n",
    "print accuracy_score(y_test, predictions)"
   ]
  },
  {
   "cell_type": "markdown",
   "metadata": {
    "collapsed": true
   },
   "source": [
    "## Trainable Dataset Attempt 2\n",
    "\n",
    "The first dataset averages how each player perfroms on the day for the team and then uses that to predict the outcome on the day. I want to see what would happen to the accuracy if we use season averages for every game to train the model. \n",
    "\n",
    "Let's start with season averages. We'll have two separate averages. One for when a team is playing at home and one for when a team is playing away. And then we'll test how this effects the accuracy."
   ]
  },
  {
   "cell_type": "code",
   "execution_count": 111,
   "metadata": {
    "collapsed": true
   },
   "outputs": [],
   "source": [
    "home_games = df_player_stats[df_player_stats[\"teamLoc\"] == 0]\n",
    "away_games = df_player_stats[df_player_stats[\"teamLoc\"] == 1]\n",
    "\n",
    "home_set = {}\n",
    "away_set = {}\n",
    "for val in code2number.values():\n",
    "    team_home_set = home_games[home_games[\"teamAbbr\"] == val]\n",
    "    averages = team_home_set.drop([\"gmDate\",\"teamLoc\"],axis=1).mean().tolist()\n",
    "    home_set[val] = averages\n",
    "    \n",
    "    team_away_set = away_games[away_games[\"teamAbbr\"] == val]\n",
    "    averages = team_away_set.drop([\"gmDate\",\"teamLoc\"],axis=1).mean().tolist()\n",
    "    away_set[val] = averages"
   ]
  },
  {
   "cell_type": "markdown",
   "metadata": {},
   "source": [
    "Now that we've split each team's statistics into their home averages and away averages, lets make the new 2D dataset."
   ]
  },
  {
   "cell_type": "code",
   "execution_count": 114,
   "metadata": {},
   "outputs": [
    {
     "name": "stdout",
     "output_type": "stream",
     "text": [
      "Index([u'gmDate', u'teamLoc', u'teamDayOff', u'playDispNm', u'playMin',\n",
      "       u'playPos', u'playHeight', u'playWeight', u'playPTS', u'playAST',\n",
      "       u'playTO', u'playSTL', u'playBLK', u'playPF', u'playFGA', u'playFGM',\n",
      "       u'playFG%', u'play2PA', u'play2PM', u'play2P%', u'play3PA', u'play3PM',\n",
      "       u'play3P%', u'playFTA', u'playFTM', u'playFT%', u'playORB', u'playDRB'],\n",
      "      dtype='object')\n",
      "28\n"
     ]
    }
   ],
   "source": [
    "### Creating Dataset 2 from separated team averages based on home games and away games\n",
    "games2 = []\n",
    "labels2 = []\n",
    "for index, match in df_game_stats.iterrows():\n",
    "    game = []\n",
    "    home_team = match.T1name\n",
    "    away_team = match.T2name\n",
    "    game.extend(home_set[home_team])\n",
    "    game.extend(home_set[away_team])\n",
    "    \n",
    "    labels2.append(match.outcome)\n",
    "    games2.append(game)"
   ]
  },
  {
   "cell_type": "code",
   "execution_count": 63,
   "metadata": {
    "collapsed": true
   },
   "outputs": [],
   "source": [
    "### Splitting Data to obtain testing and training sets\n",
    "x_train = [games2[i] for i in i_train]\n",
    "y_train = [labels2[i] for i in i_train]\n",
    "x_test = [games2[i] for i in i_test]\n",
    "y_test = [labels2[i] for i in i_test]"
   ]
  },
  {
   "cell_type": "code",
   "execution_count": 85,
   "metadata": {},
   "outputs": [
    {
     "name": "stdout",
     "output_type": "stream",
     "text": [
      "0.559113300493\n"
     ]
    }
   ],
   "source": [
    "### Dataset 2 - Default Decision Tree\n",
    "clf = tree.DecisionTreeClassifier()\n",
    "clf = clf.fit(x_train, y_train)\n",
    "predictions = clf.predict(x_test)\n",
    "print accuracy_score(y_test, predictions)"
   ]
  },
  {
   "cell_type": "code",
   "execution_count": 88,
   "metadata": {},
   "outputs": [
    {
     "name": "stdout",
     "output_type": "stream",
     "text": [
      "0.600985221675\n"
     ]
    }
   ],
   "source": [
    "# Dataset 2 - Optimized Decsion Tree\n",
    "clf = tree.DecisionTreeClassifier(criterion=\"gini\",max_depth=12,max_leaf_nodes=20)\n",
    "clf = clf.fit(x_train, y_train)\n",
    "predictions = clf.predict(x_test)\n",
    "print str(accuracy_score(y_test, predictions))"
   ]
  },
  {
   "cell_type": "code",
   "execution_count": 66,
   "metadata": {},
   "outputs": [
    {
     "name": "stdout",
     "output_type": "stream",
     "text": [
      "0.637931034483\n"
     ]
    }
   ],
   "source": [
    "# Dataset 2 - Default Random Forest\n",
    "clf = RandomForestClassifier()\n",
    "clf = clf.fit(x_train, y_train)\n",
    "predictions = clf.predict(x_test)\n",
    "print accuracy_score(y_test, predictions)"
   ]
  },
  {
   "cell_type": "code",
   "execution_count": 67,
   "metadata": {},
   "outputs": [
    {
     "name": "stdout",
     "output_type": "stream",
     "text": [
      "0.655172413793\n"
     ]
    }
   ],
   "source": [
    "# Dataset 2 - Default Logistic Regression\n",
    "model = LogisticRegression()\n",
    "model.fit(x_train, y_train)\n",
    "predictions = model.predict(x_test)\n",
    "\n",
    "print accuracy_score(y_test, predictions)"
   ]
  },
  {
   "cell_type": "code",
   "execution_count": 122,
   "metadata": {},
   "outputs": [
    {
     "name": "stdout",
     "output_type": "stream",
     "text": [
      "{'playPos': -0.04022, 'play3PM': 0.62665, 'playWeight': -0.02093, 'play2PA': 0.75683, 'play2PM': 0.80496, 'playFT%': 0.48827, 'play3PA': 0.58158, 'playPTS': 1.0, 'playAST': 0.41989, 'playMin': 0.7226, 'playBLK': 0.17538, 'playPF': 0.26108, 'playORB': 0.22523, 'playSTL': 0.28236, 'playFTM': 0.63584, 'playTO': 0.41066, 'playHeight': -0.0366, 'play3P%': 0.39611, 'play2P%': 0.38446, 'playFG%': 0.44199, 'playDRB': 0.43718, 'playFGA': 0.87332, 'playFGM': 0.96246, 'playFTA': 0.62744}\n",
      "24\n",
      "{'playPos': -0.0296, 'play3PM': 0.6145, 'playWeight': -0.01748, 'play2PA': 0.77073, 'play2PM': 0.80756, 'playFT%': 0.50076, 'play3PA': 0.56355, 'playPTS': 1.0, 'playAST': 0.42682, 'playMin': 0.72622, 'playBLK': 0.19859, 'playPF': 0.27162, 'playORB': 0.22986, 'playSTL': 0.29661, 'playFTM': 0.64968, 'playTO': 0.41418, 'playHeight': -0.03421, 'play3P%': 0.40173, 'play2P%': 0.38199, 'playFG%': 0.43935, 'playDRB': 0.43229, 'playFGA': 0.87764, 'playFGM': 0.96187, 'playFTA': 0.63714}\n",
      "24\n",
      "48\n",
      "[10.0, 1.7261306532663316, 24.731155778894472, 3.0025125628140703, 78.59045226130654, 219.59045226130652, 11.364321608040202, 2.130653266331658, 1.3542713567839195, 0.8417085427135679, 0.49748743718592964, 2.0150753768844223, 8.618090452261306, 3.9346733668341707, 0.42186281407035153, 4.36180904522613, 2.371859296482412, 0.45482311557788946, 4.256281407035176, 1.5628140703517588, 0.24963592964824108, 2.4321608040201004, 1.9321608040201006, 0.4745728643216081, 0.8994974874371859, 3.4824120603015074, 9.0, 1.505175983436853, 20.503105590062113, 3.070393374741201, 79.80331262939958, 215.7246376811594, 9.660455486542443, 2.4057971014492754, 1.2525879917184266, 0.6894409937888198, 0.6045548654244306, 1.7142857142857142, 7.279503105590062, 3.608695652173913, 0.46608405797101443, 4.726708074534161, 2.648033126293996, 0.5005917184265007, 2.5527950310559007, 0.9606625258799172, 0.1717246376811594, 1.8488612836438922, 1.4824016563146998, 0.37984534161490674, 0.6832298136645962, 3.0144927536231885]\n",
      "52\n",
      "26\n",
      "Index([u'gmDate', u'teamLoc', u'teamDayOff', u'playDispNm', u'playMin',\n",
      "       u'playPos', u'playHeight', u'playWeight', u'playPTS', u'playAST',\n",
      "       u'playTO', u'playSTL', u'playBLK', u'playPF', u'playFGA', u'playFGM',\n",
      "       u'playFG%', u'play2PA', u'play2PM', u'play2P%', u'play3PA', u'play3PM',\n",
      "       u'play3P%', u'playFTA', u'playFTM', u'playFT%', u'playORB', u'playDRB'],\n",
      "      dtype='object')\n",
      "28\n",
      "teamAbbr\t100\n",
      "playMin\t0.72622\n",
      "playPos\t-0.0296\n",
      "playHeight\t-0.03421\n",
      "playWeight\t-0.01748\n",
      "playPTS\t1.0\n",
      "playAST\t0.42682\n",
      "playTO\t0.41418\n",
      "playSTL\t0.29661\n",
      "playBLK\t0.19859\n",
      "playPF\t0.27162\n",
      "playFGA\t0.87764\n",
      "playFGM\t0.96187\n",
      "playFG%\t0.43935\n",
      "play2PA\t0.77073\n",
      "play2PM\t0.80756\n",
      "play2P%\t0.38199\n",
      "play3PA\t0.56355\n",
      "play3PM\t0.6145\n",
      "play3P%\t0.40173\n",
      "playFTA\t0.63714\n",
      "playFTM\t0.64968\n",
      "playFT%\t0.50076\n",
      "playORB\t0.22986\n",
      "playDRB\t0.43229\n"
     ]
    }
   ],
   "source": [
    "print weights_home\n",
    "print len(weights_home)\n",
    "print weights_away\n",
    "print len(weights_away)\n",
    "print str(24+24)\n",
    "print games2[1]\n",
    "print len(games2[1])\n",
    "print 52/2\n",
    "\n",
    "print home_games.drop([\"teamAbbr\"],axis=1).columns\n",
    "print len(home_games.drop([\"teamAbbr\"],axis=1).columns)\n",
    "\n",
    "for key in home_games.drop([\"gmDate\",\"teamLoc\",\"teamDayOff\",\"playDispNm\"],axis=1).columns:\n",
    "    try:\n",
    "        print str(key) + \"\\t\" + str( weights_away[key])\n",
    "    except:\n",
    "        print str(key) + \"\\t\" + \"100\"\n",
    "        \n"
   ]
  },
  {
   "cell_type": "markdown",
   "metadata": {},
   "source": [
    "## Trainable dataset Attempt 3\n",
    "Now we'll look at using the players data without averaging to make our training set."
   ]
  },
  {
   "cell_type": "code",
   "execution_count": 68,
   "metadata": {},
   "outputs": [],
   "source": [
    "for index, match in df_game_stats.iterrows():\n",
    "    date = match.gmDate\n",
    "    home = match.T1name\n",
    "    away = match.T2name\n",
    "    \n",
    "    #game = []\n",
    "    #team1 = []\n",
    "    #team2 = []\n",
    "    \n",
    "    filter_by_date = df_player_stats_numeric[df_player_stats[\"gmDate\"]==date]\n",
    "    \n",
    "    filter_by_team = filter_by_date[filter_by_date[\"teamAbbr\"]==home]"
   ]
  },
  {
   "cell_type": "markdown",
   "metadata": {},
   "source": [
    "## Game 2 Predictor"
   ]
  },
  {
   "cell_type": "code",
   "execution_count": 70,
   "metadata": {},
   "outputs": [
    {
     "ename": "ValueError",
     "evalue": "X has 54 features per sample; expecting 52",
     "output_type": "error",
     "traceback": [
      "\u001b[0;31m---------------------------------------------------------------------------\u001b[0m",
      "\u001b[0;31mValueError\u001b[0m                                Traceback (most recent call last)",
      "\u001b[0;32m<ipython-input-70-211201eaad78>\u001b[0m in \u001b[0;36m<module>\u001b[0;34m()\u001b[0m\n\u001b[1;32m     21\u001b[0m \u001b[0;34m\u001b[0m\u001b[0m\n\u001b[1;32m     22\u001b[0m \u001b[0;31m# Predict Game\u001b[0m\u001b[0;34m\u001b[0m\u001b[0;34m\u001b[0m\u001b[0m\n\u001b[0;32m---> 23\u001b[0;31m \u001b[0mprediction\u001b[0m \u001b[0;34m=\u001b[0m \u001b[0mmodel\u001b[0m\u001b[0;34m.\u001b[0m\u001b[0mpredict\u001b[0m\u001b[0;34m(\u001b[0m\u001b[0mgames2\u001b[0m\u001b[0;34m)\u001b[0m\u001b[0;34m\u001b[0m\u001b[0m\n\u001b[0m\u001b[1;32m     24\u001b[0m \u001b[0;34m\u001b[0m\u001b[0m\n\u001b[1;32m     25\u001b[0m \u001b[0;32mif\u001b[0m \u001b[0mprediction\u001b[0m \u001b[0;34m==\u001b[0m \u001b[0;36m1\u001b[0m\u001b[0;34m:\u001b[0m\u001b[0;34m\u001b[0m\u001b[0m\n",
      "\u001b[0;32m/home/emil/anaconda2/lib/python2.7/site-packages/sklearn/linear_model/base.pyc\u001b[0m in \u001b[0;36mpredict\u001b[0;34m(self, X)\u001b[0m\n\u001b[1;32m    322\u001b[0m             \u001b[0mPredicted\u001b[0m \u001b[0;32mclass\u001b[0m \u001b[0mlabel\u001b[0m \u001b[0mper\u001b[0m \u001b[0msample\u001b[0m\u001b[0;34m.\u001b[0m\u001b[0;34m\u001b[0m\u001b[0m\n\u001b[1;32m    323\u001b[0m         \"\"\"\n\u001b[0;32m--> 324\u001b[0;31m         \u001b[0mscores\u001b[0m \u001b[0;34m=\u001b[0m \u001b[0mself\u001b[0m\u001b[0;34m.\u001b[0m\u001b[0mdecision_function\u001b[0m\u001b[0;34m(\u001b[0m\u001b[0mX\u001b[0m\u001b[0;34m)\u001b[0m\u001b[0;34m\u001b[0m\u001b[0m\n\u001b[0m\u001b[1;32m    325\u001b[0m         \u001b[0;32mif\u001b[0m \u001b[0mlen\u001b[0m\u001b[0;34m(\u001b[0m\u001b[0mscores\u001b[0m\u001b[0;34m.\u001b[0m\u001b[0mshape\u001b[0m\u001b[0;34m)\u001b[0m \u001b[0;34m==\u001b[0m \u001b[0;36m1\u001b[0m\u001b[0;34m:\u001b[0m\u001b[0;34m\u001b[0m\u001b[0m\n\u001b[1;32m    326\u001b[0m             \u001b[0mindices\u001b[0m \u001b[0;34m=\u001b[0m \u001b[0;34m(\u001b[0m\u001b[0mscores\u001b[0m \u001b[0;34m>\u001b[0m \u001b[0;36m0\u001b[0m\u001b[0;34m)\u001b[0m\u001b[0;34m.\u001b[0m\u001b[0mastype\u001b[0m\u001b[0;34m(\u001b[0m\u001b[0mnp\u001b[0m\u001b[0;34m.\u001b[0m\u001b[0mint\u001b[0m\u001b[0;34m)\u001b[0m\u001b[0;34m\u001b[0m\u001b[0m\n",
      "\u001b[0;32m/home/emil/anaconda2/lib/python2.7/site-packages/sklearn/linear_model/base.pyc\u001b[0m in \u001b[0;36mdecision_function\u001b[0;34m(self, X)\u001b[0m\n\u001b[1;32m    303\u001b[0m         \u001b[0;32mif\u001b[0m \u001b[0mX\u001b[0m\u001b[0;34m.\u001b[0m\u001b[0mshape\u001b[0m\u001b[0;34m[\u001b[0m\u001b[0;36m1\u001b[0m\u001b[0;34m]\u001b[0m \u001b[0;34m!=\u001b[0m \u001b[0mn_features\u001b[0m\u001b[0;34m:\u001b[0m\u001b[0;34m\u001b[0m\u001b[0m\n\u001b[1;32m    304\u001b[0m             raise ValueError(\"X has %d features per sample; expecting %d\"\n\u001b[0;32m--> 305\u001b[0;31m                              % (X.shape[1], n_features))\n\u001b[0m\u001b[1;32m    306\u001b[0m \u001b[0;34m\u001b[0m\u001b[0m\n\u001b[1;32m    307\u001b[0m         scores = safe_sparse_dot(X, self.coef_.T,\n",
      "\u001b[0;31mValueError\u001b[0m: X has 54 features per sample; expecting 52"
     ]
    }
   ],
   "source": [
    "home = \"BOS\"\n",
    "away = \"PHI\"\n",
    "\n",
    "home = code2number[home]\n",
    "away = code2number[away]\n",
    "\n",
    "match = []\n",
    "games2 = []\n",
    "\n",
    "# Home Team Season Stats\n",
    "filter_by_team = df_player_stats[df_player_stats[\"teamAbbr\"]==home]\n",
    "filter_by_team = filter_by_team.drop([\"gmDate\"], axis=1)\n",
    "match.extend(filter_by_team.mean().tolist())\n",
    "\n",
    "# Away Team Season Stats\n",
    "filter_by_team = df_player_stats[df_player_stats[\"teamAbbr\"]==away]\n",
    "filter_by_team = filter_by_team.drop([\"gmDate\"], axis=1)\n",
    "match.extend(filter_by_team.mean().tolist())\n",
    "\n",
    "games2.append(match)\n",
    "\n",
    "# Predict Game\n",
    "prediction = model.predict(games2)\n",
    "\n",
    "if prediction == 1:\n",
    "    print \"Home\"\n",
    "else:\n",
    "    print \"Away\"\n",
    "\n"
   ]
  },
  {
   "cell_type": "markdown",
   "metadata": {},
   "source": [
    "It's expected that the accuracy would go down, because this doesn't factor any improvment for a team that happens over the course of the season. This would mean that we would expect predictions made for the end of the season to be more accurate than that of games in the beginning of the season. \n",
    "\n",
    "I also want to try appending the player data directly to the training set in the following format:\n",
    "[G_k] = [Team_1_player_1_stat_1, Team_1_player_1_stat_2, ... , Team_2_player_m_stat_n ]\n",
    "\n",
    "Taking just the first m players of each team, where m is the same as the lowest number of players played at any night, might yield some interesting information. \n",
    "\n",
    "From using the first training dataset, I've learned two things.\n",
    "1. More work needs to be done in terms of representing the data in two dimensions.\n",
    "1. \n",
    "\n",
    "There are some problems immediately visible with how I've setup the first dataset:\n",
    "1. There's no way to distinguish the statistics for when a team was home and when a team was away. It's fairly well known that in Basketball, having home court advantage is usually a pretty big advantage.\n",
    "1. Team statistics are created using player averages. This will unfairly effect teams who use more players in a game than a team which does not.\n",
    "1. The data is not normalized to anything.\n"
   ]
  },
  {
   "cell_type": "code",
   "execution_count": null,
   "metadata": {
    "collapsed": true
   },
   "outputs": [],
   "source": []
  }
 ],
 "metadata": {
  "kernelspec": {
   "display_name": "Python 2",
   "language": "python",
   "name": "python2"
  },
  "language_info": {
   "codemirror_mode": {
    "name": "ipython",
    "version": 2
   },
   "file_extension": ".py",
   "mimetype": "text/x-python",
   "name": "python",
   "nbconvert_exporter": "python",
   "pygments_lexer": "ipython2",
   "version": "2.7.9"
  }
 },
 "nbformat": 4,
 "nbformat_minor": 2
}
